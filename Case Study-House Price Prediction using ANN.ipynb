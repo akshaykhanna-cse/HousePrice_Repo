{
 "cells": [
  {
   "cell_type": "code",
   "execution_count": 28,
   "metadata": {},
   "outputs": [],
   "source": [
    "import tensorflow as tf\n",
    "import numpy as np\n",
    "import pandas as pd"
   ]
  },
  {
   "cell_type": "code",
   "execution_count": 29,
   "metadata": {},
   "outputs": [
    {
     "data": {
      "text/plain": [
       "'2.3.1'"
      ]
     },
     "execution_count": 29,
     "metadata": {},
     "output_type": "execute_result"
    }
   ],
   "source": [
    "tf.__version__"
   ]
  },
  {
   "cell_type": "code",
   "execution_count": 30,
   "metadata": {},
   "outputs": [],
   "source": [
    "df=pd.read_csv('Churn_Modelling.csv')\n",
    "x=df.iloc[:,3:-1].values\n",
    "y=df.iloc[:,-1].values\n"
   ]
  },
  {
   "cell_type": "code",
   "execution_count": 31,
   "metadata": {},
   "outputs": [
    {
     "name": "stdout",
     "output_type": "stream",
     "text": [
      "[[619 'France' 'Female' ... 1 1 101348.88]\n",
      " [608 'Spain' 'Female' ... 0 1 112542.58]\n",
      " [502 'France' 'Female' ... 1 0 113931.57]\n",
      " ...\n",
      " [709 'France' 'Female' ... 0 1 42085.58]\n",
      " [772 'Germany' 'Male' ... 1 0 92888.52]\n",
      " [792 'France' 'Female' ... 1 0 38190.78]]\n"
     ]
    }
   ],
   "source": [
    "print(x)"
   ]
  },
  {
   "cell_type": "code",
   "execution_count": 32,
   "metadata": {},
   "outputs": [
    {
     "name": "stdout",
     "output_type": "stream",
     "text": [
      "[1 0 1 ... 1 1 0]\n"
     ]
    }
   ],
   "source": [
    "print(y)"
   ]
  },
  {
   "cell_type": "code",
   "execution_count": 33,
   "metadata": {},
   "outputs": [],
   "source": [
    "#label encoding the gender column\n",
    "from sklearn.preprocessing import LabelEncoder\n",
    "le=LabelEncoder()\n",
    "x[:,2]=le.fit_transform(x[:,2])"
   ]
  },
  {
   "cell_type": "code",
   "execution_count": 34,
   "metadata": {},
   "outputs": [
    {
     "name": "stdout",
     "output_type": "stream",
     "text": [
      "[[619 'France' 0 ... 1 1 101348.88]\n",
      " [608 'Spain' 0 ... 0 1 112542.58]\n",
      " [502 'France' 0 ... 1 0 113931.57]\n",
      " ...\n",
      " [709 'France' 0 ... 0 1 42085.58]\n",
      " [772 'Germany' 1 ... 1 0 92888.52]\n",
      " [792 'France' 0 ... 1 0 38190.78]]\n"
     ]
    }
   ],
   "source": [
    "print(x)"
   ]
  },
  {
   "cell_type": "code",
   "execution_count": 35,
   "metadata": {},
   "outputs": [],
   "source": [
    "#one hot encoding the geography column\n",
    "from sklearn.compose import ColumnTransformer\n",
    "from sklearn.preprocessing import OneHotEncoder"
   ]
  },
  {
   "cell_type": "code",
   "execution_count": 36,
   "metadata": {},
   "outputs": [
    {
     "name": "stdout",
     "output_type": "stream",
     "text": [
      "[[1.0 0.0 0.0 ... 1 1 101348.88]\n",
      " [0.0 0.0 1.0 ... 0 1 112542.58]\n",
      " [1.0 0.0 0.0 ... 1 0 113931.57]\n",
      " ...\n",
      " [1.0 0.0 0.0 ... 0 1 42085.58]\n",
      " [0.0 1.0 0.0 ... 1 0 92888.52]\n",
      " [1.0 0.0 0.0 ... 1 0 38190.78]]\n"
     ]
    }
   ],
   "source": [
    "ct=ColumnTransformer(transformers=[('encoder',OneHotEncoder(),[1])],remainder='passthrough')\n",
    "x=np.array(ct.fit_transform(x))\n",
    "print(x)"
   ]
  },
  {
   "cell_type": "code",
   "execution_count": 37,
   "metadata": {},
   "outputs": [],
   "source": [
    "#splitting the dataset\n",
    "from sklearn.model_selection import train_test_split\n",
    "x_train,x_test,y_train,y_test=train_test_split(x,y,test_size=0.2,random_state=0)"
   ]
  },
  {
   "cell_type": "code",
   "execution_count": 38,
   "metadata": {},
   "outputs": [],
   "source": [
    "#feature scaling\n",
    "from sklearn.preprocessing import StandardScaler\n",
    "sc=StandardScaler()\n",
    "x_train=sc.fit_transform(x_train)\n",
    "x_test=sc.transform(x_test)"
   ]
  },
  {
   "cell_type": "code",
   "execution_count": 39,
   "metadata": {},
   "outputs": [],
   "source": [
    "ann=tf.keras.models.Sequential()"
   ]
  },
  {
   "cell_type": "code",
   "execution_count": 40,
   "metadata": {},
   "outputs": [],
   "source": [
    "#adding the input and first hidden layer\n",
    "ann.add(tf.keras.layers.Dense(units=6,activation='relu'))"
   ]
  },
  {
   "cell_type": "code",
   "execution_count": 41,
   "metadata": {},
   "outputs": [],
   "source": [
    "#adding the 2nd hidden layer\n",
    "ann.add(tf.keras.layers.Dense(units=6,activation='relu'))"
   ]
  },
  {
   "cell_type": "code",
   "execution_count": 42,
   "metadata": {},
   "outputs": [],
   "source": [
    "#adding the o/p layer\n",
    "ann.add(tf.keras.layers.Dense(units=1,activation='sigmoid'))"
   ]
  },
  {
   "cell_type": "code",
   "execution_count": 43,
   "metadata": {},
   "outputs": [],
   "source": [
    "#compliling the ann\n",
    "ann.compile(optimizer='adam',loss='binary_crossentropy',metrics=['accuracy'])"
   ]
  },
  {
   "cell_type": "code",
   "execution_count": 44,
   "metadata": {},
   "outputs": [
    {
     "name": "stdout",
     "output_type": "stream",
     "text": [
      "Epoch 1/100\n",
      "250/250 [==============================] - 0s 670us/step - loss: 0.5372 - accuracy: 0.7741\n",
      "Epoch 2/100\n",
      "250/250 [==============================] - 0s 750us/step - loss: 0.4516 - accuracy: 0.8081\n",
      "Epoch 3/100\n",
      "250/250 [==============================] - ETA: 0s - loss: 0.4267 - accuracy: 0.81 - 0s 714us/step - loss: 0.4300 - accuracy: 0.8148\n",
      "Epoch 4/100\n",
      "250/250 [==============================] - 0s 754us/step - loss: 0.4203 - accuracy: 0.8152\n",
      "Epoch 5/100\n",
      "250/250 [==============================] - 0s 752us/step - loss: 0.4144 - accuracy: 0.8164\n",
      "Epoch 6/100\n",
      "250/250 [==============================] - 0s 696us/step - loss: 0.4096 - accuracy: 0.8180\n",
      "Epoch 7/100\n",
      "250/250 [==============================] - 0s 760us/step - loss: 0.4053 - accuracy: 0.8205\n",
      "Epoch 8/100\n",
      "250/250 [==============================] - 0s 750us/step - loss: 0.4011 - accuracy: 0.8221\n",
      "Epoch 9/100\n",
      "250/250 [==============================] - 0s 726us/step - loss: 0.3967 - accuracy: 0.8230\n",
      "Epoch 10/100\n",
      "250/250 [==============================] - 0s 716us/step - loss: 0.3914 - accuracy: 0.8284\n",
      "Epoch 11/100\n",
      "250/250 [==============================] - 0s 736us/step - loss: 0.3855 - accuracy: 0.8334\n",
      "Epoch 12/100\n",
      "250/250 [==============================] - 0s 732us/step - loss: 0.3793 - accuracy: 0.8388\n",
      "Epoch 13/100\n",
      "250/250 [==============================] - 0s 692us/step - loss: 0.3731 - accuracy: 0.8425\n",
      "Epoch 14/100\n",
      "250/250 [==============================] - 0s 706us/step - loss: 0.3684 - accuracy: 0.8456\n",
      "Epoch 15/100\n",
      "250/250 [==============================] - 0s 752us/step - loss: 0.3636 - accuracy: 0.8480\n",
      "Epoch 16/100\n",
      "250/250 [==============================] - 0s 768us/step - loss: 0.3602 - accuracy: 0.8512\n",
      "Epoch 17/100\n",
      "250/250 [==============================] - 0s 762us/step - loss: 0.3574 - accuracy: 0.8521\n",
      "Epoch 18/100\n",
      "250/250 [==============================] - 0s 746us/step - loss: 0.3547 - accuracy: 0.8540\n",
      "Epoch 19/100\n",
      "250/250 [==============================] - 0s 700us/step - loss: 0.3529 - accuracy: 0.8546\n",
      "Epoch 20/100\n",
      "250/250 [==============================] - 0s 712us/step - loss: 0.3516 - accuracy: 0.8556\n",
      "Epoch 21/100\n",
      "250/250 [==============================] - 0s 724us/step - loss: 0.3501 - accuracy: 0.8559\n",
      "Epoch 22/100\n",
      "250/250 [==============================] - 0s 732us/step - loss: 0.3493 - accuracy: 0.8560\n",
      "Epoch 23/100\n",
      "250/250 [==============================] - 0s 750us/step - loss: 0.3489 - accuracy: 0.8574\n",
      "Epoch 24/100\n",
      "250/250 [==============================] - 0s 712us/step - loss: 0.3479 - accuracy: 0.8562\n",
      "Epoch 25/100\n",
      "250/250 [==============================] - 0s 738us/step - loss: 0.3478 - accuracy: 0.8585\n",
      "Epoch 26/100\n",
      "250/250 [==============================] - 0s 692us/step - loss: 0.3468 - accuracy: 0.8581\n",
      "Epoch 27/100\n",
      "250/250 [==============================] - 0s 750us/step - loss: 0.3467 - accuracy: 0.8577\n",
      "Epoch 28/100\n",
      "250/250 [==============================] - 0s 748us/step - loss: 0.3460 - accuracy: 0.8581\n",
      "Epoch 29/100\n",
      "250/250 [==============================] - 0s 750us/step - loss: 0.3458 - accuracy: 0.8589\n",
      "Epoch 30/100\n",
      "250/250 [==============================] - 0s 738us/step - loss: 0.3448 - accuracy: 0.8593\n",
      "Epoch 31/100\n",
      "250/250 [==============================] - 0s 698us/step - loss: 0.3444 - accuracy: 0.8622\n",
      "Epoch 32/100\n",
      "250/250 [==============================] - 0s 750us/step - loss: 0.3437 - accuracy: 0.8631\n",
      "Epoch 33/100\n",
      "250/250 [==============================] - 0s 722us/step - loss: 0.3433 - accuracy: 0.8624\n",
      "Epoch 34/100\n",
      "250/250 [==============================] - 0s 720us/step - loss: 0.3429 - accuracy: 0.8629\n",
      "Epoch 35/100\n",
      "250/250 [==============================] - 0s 734us/step - loss: 0.3420 - accuracy: 0.8625\n",
      "Epoch 36/100\n",
      "250/250 [==============================] - 0s 748us/step - loss: 0.3417 - accuracy: 0.8629\n",
      "Epoch 37/100\n",
      "250/250 [==============================] - 0s 744us/step - loss: 0.3414 - accuracy: 0.8634\n",
      "Epoch 38/100\n",
      "250/250 [==============================] - 0s 716us/step - loss: 0.3408 - accuracy: 0.8622\n",
      "Epoch 39/100\n",
      "250/250 [==============================] - 0s 786us/step - loss: 0.3406 - accuracy: 0.8634\n",
      "Epoch 40/100\n",
      "250/250 [==============================] - 0s 746us/step - loss: 0.3398 - accuracy: 0.8641\n",
      "Epoch 41/100\n",
      "250/250 [==============================] - 0s 752us/step - loss: 0.3393 - accuracy: 0.8636\n",
      "Epoch 42/100\n",
      "250/250 [==============================] - 0s 750us/step - loss: 0.3390 - accuracy: 0.8625\n",
      "Epoch 43/100\n",
      "250/250 [==============================] - 0s 744us/step - loss: 0.3384 - accuracy: 0.8639\n",
      "Epoch 44/100\n",
      "250/250 [==============================] - 0s 726us/step - loss: 0.3381 - accuracy: 0.8631\n",
      "Epoch 45/100\n",
      "250/250 [==============================] - 0s 776us/step - loss: 0.3378 - accuracy: 0.8640\n",
      "Epoch 46/100\n",
      "250/250 [==============================] - 0s 750us/step - loss: 0.3379 - accuracy: 0.8651\n",
      "Epoch 47/100\n",
      "250/250 [==============================] - 0s 702us/step - loss: 0.3371 - accuracy: 0.8643\n",
      "Epoch 48/100\n",
      "250/250 [==============================] - 0s 760us/step - loss: 0.3368 - accuracy: 0.8637\n",
      "Epoch 49/100\n",
      "250/250 [==============================] - 0s 744us/step - loss: 0.3365 - accuracy: 0.8640\n",
      "Epoch 50/100\n",
      "250/250 [==============================] - 0s 758us/step - loss: 0.3362 - accuracy: 0.8649\n",
      "Epoch 51/100\n",
      "250/250 [==============================] - 0s 722us/step - loss: 0.3358 - accuracy: 0.8630\n",
      "Epoch 52/100\n",
      "250/250 [==============================] - 0s 720us/step - loss: 0.3362 - accuracy: 0.8637\n",
      "Epoch 53/100\n",
      "250/250 [==============================] - 0s 762us/step - loss: 0.3356 - accuracy: 0.8636\n",
      "Epoch 54/100\n",
      "250/250 [==============================] - 0s 736us/step - loss: 0.3355 - accuracy: 0.8649\n",
      "Epoch 55/100\n",
      "250/250 [==============================] - 0s 704us/step - loss: 0.3356 - accuracy: 0.8625\n",
      "Epoch 56/100\n",
      "250/250 [==============================] - 0s 702us/step - loss: 0.3355 - accuracy: 0.8629\n",
      "Epoch 57/100\n",
      "250/250 [==============================] - 0s 712us/step - loss: 0.3352 - accuracy: 0.8635\n",
      "Epoch 58/100\n",
      "250/250 [==============================] - 0s 700us/step - loss: 0.3350 - accuracy: 0.8645\n",
      "Epoch 59/100\n",
      "250/250 [==============================] - 0s 698us/step - loss: 0.3349 - accuracy: 0.8629\n",
      "Epoch 60/100\n",
      "250/250 [==============================] - 0s 672us/step - loss: 0.3346 - accuracy: 0.8652\n",
      "Epoch 61/100\n",
      "250/250 [==============================] - 0s 742us/step - loss: 0.3344 - accuracy: 0.8629\n",
      "Epoch 62/100\n",
      "250/250 [==============================] - 0s 694us/step - loss: 0.3345 - accuracy: 0.8648\n",
      "Epoch 63/100\n",
      "250/250 [==============================] - 0s 704us/step - loss: 0.3345 - accuracy: 0.8636\n",
      "Epoch 64/100\n",
      "250/250 [==============================] - 0s 726us/step - loss: 0.3343 - accuracy: 0.8637\n",
      "Epoch 65/100\n",
      "250/250 [==============================] - 0s 732us/step - loss: 0.3338 - accuracy: 0.8651\n",
      "Epoch 66/100\n",
      "250/250 [==============================] - 0s 696us/step - loss: 0.3338 - accuracy: 0.8639\n",
      "Epoch 67/100\n",
      "250/250 [==============================] - 0s 754us/step - loss: 0.3340 - accuracy: 0.8645\n",
      "Epoch 68/100\n",
      "250/250 [==============================] - 0s 736us/step - loss: 0.3334 - accuracy: 0.8646\n",
      "Epoch 69/100\n",
      "250/250 [==============================] - 0s 738us/step - loss: 0.3335 - accuracy: 0.8646\n",
      "Epoch 70/100\n",
      "250/250 [==============================] - 0s 746us/step - loss: 0.3336 - accuracy: 0.8641\n",
      "Epoch 71/100\n",
      "250/250 [==============================] - 0s 756us/step - loss: 0.3330 - accuracy: 0.8639\n",
      "Epoch 72/100\n",
      "250/250 [==============================] - 0s 724us/step - loss: 0.3330 - accuracy: 0.8648\n",
      "Epoch 73/100\n",
      "250/250 [==============================] - 0s 726us/step - loss: 0.3326 - accuracy: 0.8655\n",
      "Epoch 74/100\n",
      "250/250 [==============================] - 0s 720us/step - loss: 0.3327 - accuracy: 0.8655\n",
      "Epoch 75/100\n",
      "250/250 [==============================] - 0s 778us/step - loss: 0.3324 - accuracy: 0.8660\n",
      "Epoch 76/100\n",
      "250/250 [==============================] - 0s 756us/step - loss: 0.3320 - accuracy: 0.8643\n",
      "Epoch 77/100\n",
      "250/250 [==============================] - 0s 746us/step - loss: 0.3322 - accuracy: 0.8637\n",
      "Epoch 78/100\n",
      "250/250 [==============================] - 0s 750us/step - loss: 0.3324 - accuracy: 0.8649\n",
      "Epoch 79/100\n",
      "250/250 [==============================] - 0s 744us/step - loss: 0.3319 - accuracy: 0.8651\n",
      "Epoch 80/100\n",
      "250/250 [==============================] - 0s 686us/step - loss: 0.3320 - accuracy: 0.8650\n",
      "Epoch 81/100\n",
      "250/250 [==============================] - 0s 672us/step - loss: 0.3317 - accuracy: 0.8646\n",
      "Epoch 82/100\n",
      "250/250 [==============================] - 0s 710us/step - loss: 0.3317 - accuracy: 0.8652\n",
      "Epoch 83/100\n",
      "250/250 [==============================] - 0s 666us/step - loss: 0.3318 - accuracy: 0.8655\n",
      "Epoch 84/100\n",
      "250/250 [==============================] - 0s 678us/step - loss: 0.3316 - accuracy: 0.8664\n",
      "Epoch 85/100\n",
      "250/250 [==============================] - 0s 692us/step - loss: 0.3310 - accuracy: 0.8655\n",
      "Epoch 86/100\n",
      "250/250 [==============================] - 0s 688us/step - loss: 0.3318 - accuracy: 0.8648\n",
      "Epoch 87/100\n",
      "250/250 [==============================] - 0s 780us/step - loss: 0.3311 - accuracy: 0.8650\n",
      "Epoch 88/100\n",
      "250/250 [==============================] - 0s 770us/step - loss: 0.3309 - accuracy: 0.8652\n",
      "Epoch 89/100\n",
      "250/250 [==============================] - 0s 732us/step - loss: 0.3312 - accuracy: 0.8656\n",
      "Epoch 90/100\n",
      "250/250 [==============================] - 0s 724us/step - loss: 0.3310 - accuracy: 0.8656\n",
      "Epoch 91/100\n",
      "250/250 [==============================] - 0s 724us/step - loss: 0.3304 - accuracy: 0.8640\n",
      "Epoch 92/100\n",
      "250/250 [==============================] - 0s 692us/step - loss: 0.3308 - accuracy: 0.8665\n",
      "Epoch 93/100\n",
      "250/250 [==============================] - 0s 748us/step - loss: 0.3309 - accuracy: 0.8646\n",
      "Epoch 94/100\n",
      "250/250 [==============================] - 0s 748us/step - loss: 0.3309 - accuracy: 0.8656\n",
      "Epoch 95/100\n",
      "250/250 [==============================] - 0s 746us/step - loss: 0.3306 - accuracy: 0.8670\n",
      "Epoch 96/100\n",
      "250/250 [==============================] - 0s 782us/step - loss: 0.3306 - accuracy: 0.8648\n",
      "Epoch 97/100\n",
      "250/250 [==============================] - 0s 736us/step - loss: 0.3303 - accuracy: 0.8670\n",
      "Epoch 98/100\n",
      "250/250 [==============================] - 0s 778us/step - loss: 0.3307 - accuracy: 0.8654\n",
      "Epoch 99/100\n",
      "250/250 [==============================] - 0s 778us/step - loss: 0.3303 - accuracy: 0.8664\n",
      "Epoch 100/100\n",
      "250/250 [==============================] - 0s 750us/step - loss: 0.3306 - accuracy: 0.8656\n"
     ]
    },
    {
     "data": {
      "text/plain": [
       "<tensorflow.python.keras.callbacks.History at 0x2169364d88>"
      ]
     },
     "execution_count": 44,
     "metadata": {},
     "output_type": "execute_result"
    }
   ],
   "source": [
    "ann.fit(x_train,y_train,batch_size=32,epochs=100)"
   ]
  },
  {
   "cell_type": "code",
   "execution_count": 45,
   "metadata": {},
   "outputs": [
    {
     "data": {
      "text/plain": [
       "array([[0.02612743]], dtype=float32)"
      ]
     },
     "execution_count": 45,
     "metadata": {},
     "output_type": "execute_result"
    }
   ],
   "source": [
    "ann.predict(sc.transform([[1,0,0,600,1,40,3,60000,2,1,1,50000]]))"
   ]
  },
  {
   "cell_type": "code",
   "execution_count": 47,
   "metadata": {},
   "outputs": [
    {
     "name": "stdout",
     "output_type": "stream",
     "text": [
      "[[0.22262526]\n",
      " [0.4144839 ]\n",
      " [0.10485128]\n",
      " ...\n",
      " [0.14769474]\n",
      " [0.17419714]\n",
      " [0.1762586 ]]\n"
     ]
    }
   ],
   "source": [
    "y_pred=ann.predict(x_test)\n",
    "print(y_pred)"
   ]
  },
  {
   "cell_type": "code",
   "execution_count": 48,
   "metadata": {},
   "outputs": [],
   "source": [
    "#if the predicted prob >0.5,it'll be assigned with 1 else 0\n",
    "y_pred=(y_pred>0.5)"
   ]
  },
  {
   "cell_type": "code",
   "execution_count": 49,
   "metadata": {},
   "outputs": [
    {
     "data": {
      "text/plain": [
       "array([[0, 0],\n",
       "       [0, 1],\n",
       "       [0, 0],\n",
       "       ...,\n",
       "       [0, 0],\n",
       "       [0, 0],\n",
       "       [0, 0]], dtype=int64)"
      ]
     },
     "execution_count": 49,
     "metadata": {},
     "output_type": "execute_result"
    }
   ],
   "source": [
    "np.concatenate((y_pred.reshape(-1,1),y_test.reshape(-1,1)),axis=1)"
   ]
  },
  {
   "cell_type": "code",
   "execution_count": 50,
   "metadata": {},
   "outputs": [
    {
     "name": "stdout",
     "output_type": "stream",
     "text": [
      "[[1518   77]\n",
      " [ 196  209]]\n"
     ]
    },
    {
     "data": {
      "text/plain": [
       "0.8635"
      ]
     },
     "execution_count": 50,
     "metadata": {},
     "output_type": "execute_result"
    }
   ],
   "source": [
    "from sklearn.metrics import confusion_matrix,accuracy_score\n",
    "cm=confusion_matrix(y_test,y_pred)\n",
    "print(cm)\n",
    "accuracy_score(y_test,y_pred)"
   ]
  },
  {
   "cell_type": "code",
   "execution_count": null,
   "metadata": {},
   "outputs": [],
   "source": []
  }
 ],
 "metadata": {
  "kernelspec": {
   "display_name": "Python 3",
   "language": "python",
   "name": "python3"
  },
  "language_info": {
   "codemirror_mode": {
    "name": "ipython",
    "version": 3
   },
   "file_extension": ".py",
   "mimetype": "text/x-python",
   "name": "python",
   "nbconvert_exporter": "python",
   "pygments_lexer": "ipython3",
   "version": "3.7.6"
  }
 },
 "nbformat": 4,
 "nbformat_minor": 4
}
